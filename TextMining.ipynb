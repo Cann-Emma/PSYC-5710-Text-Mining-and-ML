{
  "nbformat": 4,
  "nbformat_minor": 0,
  "metadata": {
    "colab": {
      "provenance": [],
      "authorship_tag": "ABX9TyOgSEQI2xHhnFSlYhTbum5a",
      "include_colab_link": true
    },
    "kernelspec": {
      "name": "ir",
      "display_name": "R"
    },
    "language_info": {
      "name": "R"
    }
  },
  "cells": [
    {
      "cell_type": "markdown",
      "metadata": {
        "id": "view-in-github",
        "colab_type": "text"
      },
      "source": [
        "<a href=\"https://colab.research.google.com/github/Cann-Emma/PSYC-5710-Text-Mining-and-ML/blob/main/TextMining.ipynb\" target=\"_parent\"><img src=\"https://colab.research.google.com/assets/colab-badge.svg\" alt=\"Open In Colab\"/></a>"
      ]
    },
    {
      "cell_type": "code",
      "source": [
        "install.packages(\"SnowballC\")\n",
        "install.packages(\"tm\")\n",
        "install.packages(\"plotly\")"
      ],
      "metadata": {
        "colab": {
          "base_uri": "https://localhost:8080/"
        },
        "id": "j4LQXFnjbmQc",
        "outputId": "dc1c4b0b-d515-4f88-d594-8a49ea6eaf97"
      },
      "execution_count": 4,
      "outputs": [
        {
          "output_type": "stream",
          "name": "stderr",
          "text": [
            "Installing package into ‘/usr/local/lib/R/site-library’\n",
            "(as ‘lib’ is unspecified)\n",
            "\n",
            "Installing package into ‘/usr/local/lib/R/site-library’\n",
            "(as ‘lib’ is unspecified)\n",
            "\n",
            "also installing the dependency ‘BH’\n",
            "\n",
            "\n",
            "Installing package into ‘/usr/local/lib/R/site-library’\n",
            "(as ‘lib’ is unspecified)\n",
            "\n",
            "Installing package into ‘/usr/local/lib/R/site-library’\n",
            "(as ‘lib’ is unspecified)\n",
            "\n",
            "also installing the dependency ‘igraph’\n",
            "\n",
            "\n",
            "Warning message in install.packages(\"qgraph\"):\n",
            "“installation of package ‘igraph’ had non-zero exit status”\n",
            "Warning message in install.packages(\"qgraph\"):\n",
            "“installation of package ‘qgraph’ had non-zero exit status”\n"
          ]
        }
      ]
    },
    {
      "cell_type": "code",
      "source": [
        "library(ggplot2)\n",
        "library(dplyr)\n",
        "library(SnowballC)\n",
        "library(tm)\n",
        "library(plotly)"
      ],
      "metadata": {
        "id": "tNf8nrnAbNd0"
      },
      "execution_count": 8,
      "outputs": []
    },
    {
      "cell_type": "code",
      "source": [
        "lyrics<- read.csv(\"lyrics_beatles.csv\", header= T, stringsAsFactors = F)"
      ],
      "metadata": {
        "id": "eW4UyyIgd3h5"
      },
      "execution_count": 9,
      "outputs": []
    },
    {
      "cell_type": "code",
      "source": [
        "corpus<- Corpus(VectorSource((lyrics[, 3])))\n",
        "corpus<- tm_map(corpus, tolower)\n",
        "corpus<- tm_map(corpus, removePunctuation)\n",
        "corpus<- tm_map(corpus, removeNumbers)\n",
        "corpus<- tm_map(corpus, removeWords, stopwords(\"english\"))\n",
        "corpus<- tm_map(corpus, stemDocument)"
      ],
      "metadata": {
        "colab": {
          "base_uri": "https://localhost:8080/"
        },
        "id": "VpLTQfs0eUlS",
        "outputId": "396bb706-c848-4274-aa2c-5cfcd8f035cd"
      },
      "execution_count": 12,
      "outputs": [
        {
          "output_type": "stream",
          "name": "stderr",
          "text": [
            "Warning message in tm_map.SimpleCorpus(corpus, tolower):\n",
            "“transformation drops documents”\n",
            "Warning message in tm_map.SimpleCorpus(corpus, removePunctuation):\n",
            "“transformation drops documents”\n",
            "Warning message in tm_map.SimpleCorpus(corpus, removeNumbers):\n",
            "“transformation drops documents”\n",
            "Warning message in tm_map.SimpleCorpus(corpus, removeWords, stopwords(\"english\")):\n",
            "“transformation drops documents”\n",
            "Warning message in tm_map.SimpleCorpus(corpus, stemDocument):\n",
            "“transformation drops documents”\n"
          ]
        }
      ]
    },
    {
      "cell_type": "code",
      "source": [
        "dtm<- DocumentTermMatrix(corpus)\n",
        "dtm"
      ],
      "metadata": {
        "colab": {
          "base_uri": "https://localhost:8080/",
          "height": 104
        },
        "id": "fXoJhDiGfUPI",
        "outputId": "fb726939-41cf-40a7-dc60-3767998ac22d"
      },
      "execution_count": 14,
      "outputs": [
        {
          "output_type": "display_data",
          "data": {
            "text/plain": [
              "<<DocumentTermMatrix (documents: 187, terms: 1719)>>\n",
              "Non-/sparse entries: 7000/314453\n",
              "Sparsity           : 98%\n",
              "Maximal term length: 17\n",
              "Weighting          : term frequency (tf)"
            ]
          },
          "metadata": {}
        }
      ]
    },
    {
      "cell_type": "code",
      "source": [
        "dtm.beatles<- removeSparseTerms(dtm, sparse= 0.90)\n",
        "dtm.beatles"
      ],
      "metadata": {
        "colab": {
          "base_uri": "https://localhost:8080/",
          "height": 104
        },
        "id": "u3ZrVpbVfh9S",
        "outputId": "63b64a68-3ed8-492e-bd5f-461bfa47047f"
      },
      "execution_count": 22,
      "outputs": [
        {
          "output_type": "display_data",
          "data": {
            "text/plain": [
              "<<DocumentTermMatrix (documents: 187, terms: 72)>>\n",
              "Non-/sparse entries: 2515/10949\n",
              "Sparsity           : 81%\n",
              "Maximal term length: 7\n",
              "Weighting          : term frequency (tf)"
            ]
          },
          "metadata": {}
        }
      ]
    },
    {
      "cell_type": "code",
      "source": [
        "removeSparseTerms(dtm, sparse= 0.99)\n",
        "removeSparseTerms(dtm, sparse= 0.98)\n",
        "removeSparseTerms(dtm, sparse= 0.97)\n",
        "removeSparseTerms(dtm, sparse= 0.96)"
      ],
      "metadata": {
        "colab": {
          "base_uri": "https://localhost:8080/",
          "height": 364
        },
        "id": "CxgNd2SQjSq7",
        "outputId": "c281ecae-f763-4bab-ffd1-275776784002"
      },
      "execution_count": 29,
      "outputs": [
        {
          "output_type": "display_data",
          "data": {
            "text/plain": [
              "<<DocumentTermMatrix (documents: 187, terms: 776)>>\n",
              "Non-/sparse entries: 6057/139055\n",
              "Sparsity           : 96%\n",
              "Maximal term length: 16\n",
              "Weighting          : term frequency (tf)"
            ]
          },
          "metadata": {}
        },
        {
          "output_type": "display_data",
          "data": {
            "text/plain": [
              "<<DocumentTermMatrix (documents: 187, terms: 412)>>\n",
              "Non-/sparse entries: 5225/71819\n",
              "Sparsity           : 93%\n",
              "Maximal term length: 10\n",
              "Weighting          : term frequency (tf)"
            ]
          },
          "metadata": {}
        },
        {
          "output_type": "display_data",
          "data": {
            "text/plain": [
              "<<DocumentTermMatrix (documents: 187, terms: 274)>>\n",
              "Non-/sparse entries: 4621/46617\n",
              "Sparsity           : 91%\n",
              "Maximal term length: 10\n",
              "Weighting          : term frequency (tf)"
            ]
          },
          "metadata": {}
        },
        {
          "output_type": "display_data",
          "data": {
            "text/plain": [
              "<<DocumentTermMatrix (documents: 187, terms: 219)>>\n",
              "Non-/sparse entries: 4267/36686\n",
              "Sparsity           : 90%\n",
              "Maximal term length: 10\n",
              "Weighting          : term frequency (tf)"
            ]
          },
          "metadata": {}
        }
      ]
    },
    {
      "cell_type": "code",
      "source": [
        "dtm.df<- as.data.frame(as.matrix(dtm))\n",
        "dtm.df"
      ],
      "metadata": {
        "id": "nOlA42a7gWYU"
      },
      "execution_count": null,
      "outputs": []
    },
    {
      "cell_type": "code",
      "source": [
        "beatles.lyrics<- as.data.frame(as.matrix(dtm.beatles))\n",
        "beatles.lyrics"
      ],
      "metadata": {
        "id": "MRg4q4OTg5no"
      },
      "execution_count": null,
      "outputs": []
    },
    {
      "cell_type": "code",
      "source": [
        "lyrics_freq<- sort(colSums(beatles.lyrics), decreasing = T)\n",
        "lyrics_freq"
      ],
      "metadata": {
        "colab": {
          "base_uri": "https://localhost:8080/",
          "height": 138
        },
        "id": "nUcnC59xh49u",
        "outputId": "470385ab-f749-431a-b453-2709894fc8fd"
      },
      "execution_count": 25,
      "outputs": [
        {
          "output_type": "display_data",
          "data": {
            "text/html": [
              "<style>\n",
              ".dl-inline {width: auto; margin:0; padding: 0}\n",
              ".dl-inline>dt, .dl-inline>dd {float: none; width: auto; display: inline-block}\n",
              ".dl-inline>dt::after {content: \":\\0020\"; padding-right: .5ex}\n",
              ".dl-inline>dt:not(:first-of-type) {padding-left: .5ex}\n",
              "</style><dl class=dl-inline><dt>love</dt><dd>589</dd><dt>know</dt><dd>301</dd><dt>dont</dt><dd>249</dd><dt>yeah</dt><dd>226</dd><dt>come</dt><dd>189</dd><dt>need</dt><dd>181</dd><dt>now</dt><dd>170</dd><dt>say</dt><dd>169</dd><dt>see</dt><dd>158</dd><dt>can</dt><dd>157</dd><dt>get</dt><dd>153</dd><dt>ill</dt><dd>145</dd><dt>girl</dt><dd>145</dd><dt>got</dt><dd>140</dd><dt>like</dt><dd>139</dd><dt>time</dt><dd>136</dd><dt>your</dt><dd>126</dd><dt>will</dt><dd>122</dd><dt>babi</dt><dd>122</dd><dt>back</dt><dd>120</dd><dt>want</dt><dd>120</dd><dt>cri</dt><dd>117</dd><dt>good</dt><dd>115</dd><dt>feel</dt><dd>114</dd><dt>cant</dt><dd>110</dd><dt>ive</dt><dd>109</dd><dt>let</dt><dd>108</dd><dt>make</dt><dd>106</dd><dt>day</dt><dd>106</dd><dt>one</dt><dd>103</dd><dt>tell</dt><dd>103</dd><dt>long</dt><dd>101</dd><dt>never</dt><dd>98</dd><dt>man</dt><dd>93</dd><dt>well</dt><dd>92</dd><dt>just</dt><dd>91</dd><dt>home</dt><dd>85</dd><dt>look</dt><dd>80</dd><dt>pleas</dt><dd>80</dd><dt>take</dt><dd>80</dd><dt>think</dt><dd>79</dd><dt>shes</dt><dd>78</dd><dt>way</dt><dd>73</dd><dt>night</dt><dd>72</dd><dt>said</dt><dd>71</dd><dt>wait</dt><dd>70</dd><dt>thing</dt><dd>62</dd><dt>mind</dt><dd>62</dd><dt>away</dt><dd>60</dd><dt>yes</dt><dd>59</dd><dt>word</dt><dd>57</dd><dt>ooh</dt><dd>54</dd><dt>leav</dt><dd>54</dd><dt>right</dt><dd>53</dd><dt>tri</dt><dd>52</dd><dt>eye</dt><dd>52</dd><dt>world</dt><dd>46</dd><dt>heart</dt><dd>43</dd><dt>alway</dt><dd>42</dd><dt>youv</dt><dd>42</dd><dt>that</dt><dd>41</dd><dt>sing</dt><dd>41</dd><dt>there</dt><dd>40</dd><dt>around</dt><dd>39</dd><dt>though</dt><dd>36</dd><dt>everyth</dt><dd>36</dd><dt>find</dt><dd>36</dd><dt>blue</dt><dd>34</dd><dt>head</dt><dd>33</dd><dt>hear</dt><dd>31</dd><dt>show</dt><dd>30</dd><dt>turn</dt><dd>26</dd></dl>\n"
            ],
            "text/markdown": "love\n:   589know\n:   301dont\n:   249yeah\n:   226come\n:   189need\n:   181now\n:   170say\n:   169see\n:   158can\n:   157get\n:   153ill\n:   145girl\n:   145got\n:   140like\n:   139time\n:   136your\n:   126will\n:   122babi\n:   122back\n:   120want\n:   120cri\n:   117good\n:   115feel\n:   114cant\n:   110ive\n:   109let\n:   108make\n:   106day\n:   106one\n:   103tell\n:   103long\n:   101never\n:   98man\n:   93well\n:   92just\n:   91home\n:   85look\n:   80pleas\n:   80take\n:   80think\n:   79shes\n:   78way\n:   73night\n:   72said\n:   71wait\n:   70thing\n:   62mind\n:   62away\n:   60yes\n:   59word\n:   57ooh\n:   54leav\n:   54right\n:   53tri\n:   52eye\n:   52world\n:   46heart\n:   43alway\n:   42youv\n:   42that\n:   41sing\n:   41there\n:   40around\n:   39though\n:   36everyth\n:   36find\n:   36blue\n:   34head\n:   33hear\n:   31show\n:   30turn\n:   26\n\n",
            "text/latex": "\\begin{description*}\n\\item[love] 589\n\\item[know] 301\n\\item[dont] 249\n\\item[yeah] 226\n\\item[come] 189\n\\item[need] 181\n\\item[now] 170\n\\item[say] 169\n\\item[see] 158\n\\item[can] 157\n\\item[get] 153\n\\item[ill] 145\n\\item[girl] 145\n\\item[got] 140\n\\item[like] 139\n\\item[time] 136\n\\item[your] 126\n\\item[will] 122\n\\item[babi] 122\n\\item[back] 120\n\\item[want] 120\n\\item[cri] 117\n\\item[good] 115\n\\item[feel] 114\n\\item[cant] 110\n\\item[ive] 109\n\\item[let] 108\n\\item[make] 106\n\\item[day] 106\n\\item[one] 103\n\\item[tell] 103\n\\item[long] 101\n\\item[never] 98\n\\item[man] 93\n\\item[well] 92\n\\item[just] 91\n\\item[home] 85\n\\item[look] 80\n\\item[pleas] 80\n\\item[take] 80\n\\item[think] 79\n\\item[shes] 78\n\\item[way] 73\n\\item[night] 72\n\\item[said] 71\n\\item[wait] 70\n\\item[thing] 62\n\\item[mind] 62\n\\item[away] 60\n\\item[yes] 59\n\\item[word] 57\n\\item[ooh] 54\n\\item[leav] 54\n\\item[right] 53\n\\item[tri] 52\n\\item[eye] 52\n\\item[world] 46\n\\item[heart] 43\n\\item[alway] 42\n\\item[youv] 42\n\\item[that] 41\n\\item[sing] 41\n\\item[there] 40\n\\item[around] 39\n\\item[though] 36\n\\item[everyth] 36\n\\item[find] 36\n\\item[blue] 34\n\\item[head] 33\n\\item[hear] 31\n\\item[show] 30\n\\item[turn] 26\n\\end{description*}\n",
            "text/plain": [
              "   love    know    dont    yeah    come    need     now     say     see     can \n",
              "    589     301     249     226     189     181     170     169     158     157 \n",
              "    get     ill    girl     got    like    time    your    will    babi    back \n",
              "    153     145     145     140     139     136     126     122     122     120 \n",
              "   want     cri    good    feel    cant     ive     let    make     day     one \n",
              "    120     117     115     114     110     109     108     106     106     103 \n",
              "   tell    long   never     man    well    just    home    look   pleas    take \n",
              "    103     101      98      93      92      91      85      80      80      80 \n",
              "  think    shes     way   night    said    wait   thing    mind    away     yes \n",
              "     79      78      73      72      71      70      62      62      60      59 \n",
              "   word     ooh    leav   right     tri     eye   world   heart   alway    youv \n",
              "     57      54      54      53      52      52      46      43      42      42 \n",
              "   that    sing   there  around  though everyth    find    blue    head    hear \n",
              "     41      41      40      39      36      36      36      34      33      31 \n",
              "   show    turn \n",
              "     30      26 "
            ]
          },
          "metadata": {}
        }
      ]
    },
    {
      "cell_type": "code",
      "source": [
        "lyrics_freq.dat<- data.frame(word= names(lyrics_freq), freq= lyrics_freq)\n",
        "head(lyrics_freq.dat,3)\n",
        "tail(lyrics_freq.dat,3)"
      ],
      "metadata": {
        "colab": {
          "base_uri": "https://localhost:8080/",
          "height": 367
        },
        "id": "bZlVj3cGic-t",
        "outputId": "eed5c44f-5f85-4499-fd90-79bed2aae370"
      },
      "execution_count": 28,
      "outputs": [
        {
          "output_type": "display_data",
          "data": {
            "text/html": [
              "<table class=\"dataframe\">\n",
              "<caption>A data.frame: 3 × 2</caption>\n",
              "<thead>\n",
              "\t<tr><th></th><th scope=col>word</th><th scope=col>freq</th></tr>\n",
              "\t<tr><th></th><th scope=col>&lt;chr&gt;</th><th scope=col>&lt;dbl&gt;</th></tr>\n",
              "</thead>\n",
              "<tbody>\n",
              "\t<tr><th scope=row>love</th><td>love</td><td>589</td></tr>\n",
              "\t<tr><th scope=row>know</th><td>know</td><td>301</td></tr>\n",
              "\t<tr><th scope=row>dont</th><td>dont</td><td>249</td></tr>\n",
              "</tbody>\n",
              "</table>\n"
            ],
            "text/markdown": "\nA data.frame: 3 × 2\n\n| <!--/--> | word &lt;chr&gt; | freq &lt;dbl&gt; |\n|---|---|---|\n| love | love | 589 |\n| know | know | 301 |\n| dont | dont | 249 |\n\n",
            "text/latex": "A data.frame: 3 × 2\n\\begin{tabular}{r|ll}\n  & word & freq\\\\\n  & <chr> & <dbl>\\\\\n\\hline\n\tlove & love & 589\\\\\n\tknow & know & 301\\\\\n\tdont & dont & 249\\\\\n\\end{tabular}\n",
            "text/plain": [
              "     word freq\n",
              "love love 589 \n",
              "know know 301 \n",
              "dont dont 249 "
            ]
          },
          "metadata": {}
        },
        {
          "output_type": "display_data",
          "data": {
            "text/html": [
              "<table class=\"dataframe\">\n",
              "<caption>A data.frame: 3 × 2</caption>\n",
              "<thead>\n",
              "\t<tr><th></th><th scope=col>word</th><th scope=col>freq</th></tr>\n",
              "\t<tr><th></th><th scope=col>&lt;chr&gt;</th><th scope=col>&lt;dbl&gt;</th></tr>\n",
              "</thead>\n",
              "<tbody>\n",
              "\t<tr><th scope=row>hear</th><td>hear</td><td>31</td></tr>\n",
              "\t<tr><th scope=row>show</th><td>show</td><td>30</td></tr>\n",
              "\t<tr><th scope=row>turn</th><td>turn</td><td>26</td></tr>\n",
              "</tbody>\n",
              "</table>\n"
            ],
            "text/markdown": "\nA data.frame: 3 × 2\n\n| <!--/--> | word &lt;chr&gt; | freq &lt;dbl&gt; |\n|---|---|---|\n| hear | hear | 31 |\n| show | show | 30 |\n| turn | turn | 26 |\n\n",
            "text/latex": "A data.frame: 3 × 2\n\\begin{tabular}{r|ll}\n  & word & freq\\\\\n  & <chr> & <dbl>\\\\\n\\hline\n\thear & hear & 31\\\\\n\tshow & show & 30\\\\\n\tturn & turn & 26\\\\\n\\end{tabular}\n",
            "text/plain": [
              "     word freq\n",
              "hear hear 31  \n",
              "show show 30  \n",
              "turn turn 26  "
            ]
          },
          "metadata": {}
        }
      ]
    },
    {
      "cell_type": "code",
      "source": [
        "ggplot(lyrics_freq.dat, aes(reorder(word, freq), freq))+ geom_col() + xlab(NULL) + coord_flip() + ylab(\"Frequency\") +\n",
        "theme(text = element_text(size = 15), axis.text.y = element_text(size = 5, angle = 45))"
      ],
      "metadata": {
        "colab": {
          "base_uri": "https://localhost:8080/",
          "height": 437
        },
        "id": "eJ7z4zYOk5vV",
        "outputId": "ff6d0e29-f478-4936-9bdf-a7c2016b79e7"
      },
      "execution_count": 32,
      "outputs": [
        {
          "output_type": "display_data",
          "data": {
            "text/plain": [
              "plot without title"
            ],
            "image/png": "[encoded data removed]"
          },
          "metadata": {
            "image/png": {
              "width": 420,
              "height": 420
            }
          }
        }
      ]
    },
    {
      "cell_type": "markdown",
      "source": [
        "[Correlation Plot](file:///C:/Users/Emmanuella/Desktop/PSYC%205710/Text_Mining/beatles.cor.html)\n"
      ],
      "metadata": {
        "id": "2P6UKowUmGkh"
      }
    }
  ]
}